{
  "nbformat": 4,
  "nbformat_minor": 0,
  "metadata": {
    "colab": {
      "provenance": []
    },
    "kernelspec": {
      "name": "python3",
      "display_name": "Python 3"
    },
    "language_info": {
      "name": "python"
    }
  },
  "cells": [
    {
      "cell_type": "code",
      "source": [
        "#Q.1.What are the five key concepts of Object-Oriented Programming (OOP)?"
      ],
      "metadata": {
        "id": "8-UoCFtKFQ77"
      },
      "execution_count": null,
      "outputs": []
    },
    {
      "cell_type": "code",
      "source": [
        "#Object-Oriented Programming (OOP) is based on several fundamental concepts that guide its structure and principles. The five key concepts are:\n",
        "\n",
        "#1. Class and Object\n",
        "#Class: A blueprint for creating objects. It defines the properties (attributes) and behaviors (methods) that the objects created from the class will have.\n",
        "#Object: An instance of a class. It represents a specific entity in the real world with the structure and behavior defined by its class."
      ],
      "metadata": {
        "id": "zuKDUqW3FRav"
      },
      "execution_count": null,
      "outputs": []
    },
    {
      "cell_type": "code",
      "source": [
        "# 2.Encapsulation\n",
        "# The bundling of data (attributes) and methods (functions) that operate on the data into a single unit (class).\n",
        "# It restricts direct access to some components of the object to protect the integrity of the data, typically achieved using access specifiers like private, protected, and public."
      ],
      "metadata": {
        "id": "JsPm5uP0FRmD"
      },
      "execution_count": null,
      "outputs": []
    },
    {
      "cell_type": "code",
      "source": [
        "# 3.Inheritance\n",
        "# A mechanism where a new class (child class) derives properties and behavior from an existing class (parent class).\n",
        "# Enables code reusability and establishes a relationship between the parent and child classes."
      ],
      "metadata": {
        "id": "C2GnZK2gFzQe"
      },
      "execution_count": null,
      "outputs": []
    },
    {
      "cell_type": "code",
      "source": [
        "# 4.Polymorphism\n",
        "# The ability of different classes to respond to the same method call in their unique way.\n",
        "# Achieved through:\n",
        "# Method Overloading: Same method name but different parameters in the same class.\n",
        "# Method Overriding: Redefining a method of a parent class in its child class.\n",
        "\n",
        "# 5. Abstraction\n",
        "# The process of hiding the implementation details of a system and exposing only the functionality.\n",
        "# Achieved using abstract classes or interfaces to define a contract that concrete classes must implement."
      ],
      "metadata": {
        "id": "EMJKZCdvF7Si"
      },
      "execution_count": null,
      "outputs": []
    },
    {
      "cell_type": "code",
      "source": [
        "#Q 2.Write a Python class for a `Car` with attributes for `make`, `model`, and `year`. Include a method to display the car's information.\n"
      ],
      "metadata": {
        "id": "wE6dxI9tGFQh"
      },
      "execution_count": null,
      "outputs": []
    },
    {
      "cell_type": "code",
      "source": [
        "#Here is a Python class for a Car with attributes make, model, and year. It includes a method to display the car's information:"
      ],
      "metadata": {
        "id": "6Aq0TbqqGwfo"
      },
      "execution_count": null,
      "outputs": []
    },
    {
      "cell_type": "code",
      "source": [
        "class Car:\n",
        "    def __init__(self, make, model, year):\n",
        "        self.make = make\n",
        "        self.model = model\n",
        "        self.year = year\n",
        "\n",
        "    def display_info(self):\n",
        "        print(f\"Car Information: {self.year} {self.make} {self.model}\")\n",
        "car = Car(\"Toyota\", \"Corolla\", 2021)\n",
        "car.display_info()\n"
      ],
      "metadata": {
        "colab": {
          "base_uri": "https://localhost:8080/"
        },
        "id": "1-nmi0stGwtD",
        "outputId": "9170849e-a7cd-43d5-901d-a5c445b4cd48"
      },
      "execution_count": null,
      "outputs": [
        {
          "output_type": "stream",
          "name": "stdout",
          "text": [
            "Car Information: 2021 Toyota Corolla\n"
          ]
        }
      ]
    },
    {
      "cell_type": "code",
      "source": [
        "#Q 3. Explain the difference between instance methods and class methods. Provide an example of each."
      ],
      "metadata": {
        "id": "jzGcL1Y7Gwxl"
      },
      "execution_count": null,
      "outputs": []
    },
    {
      "cell_type": "code",
      "source": [
        "class Person:\n",
        "    def __init__(self, name, age):\n",
        "        self.name = name\n",
        "        self.age = age\n",
        "\n",
        "    def greet(self):\n",
        "        return f\"Hello, my name is {self.name} and I am {self.age} years old.\"\n",
        "\n",
        "person = Person(\"Alice\", 30)\n",
        "print(person.greet())\n"
      ],
      "metadata": {
        "colab": {
          "base_uri": "https://localhost:8080/"
        },
        "id": "_iZMGEQ3IX8y",
        "outputId": "6ef3339c-3d06-4788-8cb8-06eb9d511019"
      },
      "execution_count": null,
      "outputs": [
        {
          "output_type": "stream",
          "name": "stdout",
          "text": [
            "Hello, my name is Alice and I am 30 years old.\n"
          ]
        }
      ]
    },
    {
      "cell_type": "code",
      "source": [
        "class Person:\n",
        "    population =0\n",
        "\n",
        "    def __init__(self, name, age):\n",
        "        self.name = name\n",
        "        self.age = age\n",
        "        Person.population += 1\n",
        "\n",
        "    @classmethod\n",
        "    def get_population(cls):\n",
        "        return f\"Current population: {cls.population}\"\n",
        "\n",
        "person1 = Person(\"Alice\", 30)\n",
        "person2 = Person(\"Bob\", 25)\n",
        "print(Person.get_population())\n"
      ],
      "metadata": {
        "colab": {
          "base_uri": "https://localhost:8080/"
        },
        "id": "UzBzql7KIfiA",
        "outputId": "8092a030-55cc-48df-a54f-87dd3b58f48d"
      },
      "execution_count": null,
      "outputs": [
        {
          "output_type": "stream",
          "name": "stdout",
          "text": [
            "Current population: 2\n"
          ]
        }
      ]
    },
    {
      "cell_type": "code",
      "source": [
        "#Q 4. How does Python implement method overloading? Give an example.\n",
        "\n"
      ],
      "metadata": {
        "id": "uijiqkRmIq1c"
      },
      "execution_count": null,
      "outputs": []
    },
    {
      "cell_type": "code",
      "source": [
        "class Calculator:\n",
        "    def add(self, a, b=0, c=0):\n",
        "        return a + b + c\n",
        "\n",
        "calc = Calculator()\n",
        "print(calc.add(5))\n",
        "\n",
        "\n"
      ],
      "metadata": {
        "colab": {
          "base_uri": "https://localhost:8080/"
        },
        "id": "0CflEqAqJHex",
        "outputId": "21395510-d187-4722-ea4c-dc2eb4881446"
      },
      "execution_count": null,
      "outputs": [
        {
          "output_type": "stream",
          "name": "stdout",
          "text": [
            "5\n"
          ]
        }
      ]
    },
    {
      "cell_type": "code",
      "source": [
        "class Calculator:\n",
        "    def add(self, *args):\n",
        "        return sum(args)\n",
        "\n",
        "calc = Calculator()\n",
        "print(calc.add(5))\n",
        "print(calc.add(5, 3))\n",
        "print(calc.add(5, 3, 2, 7))\n",
        "\n",
        "\n"
      ],
      "metadata": {
        "colab": {
          "base_uri": "https://localhost:8080/"
        },
        "id": "zTwKG9-yJTOh",
        "outputId": "9d729678-3ce7-4da5-f9e8-91c472abbab5"
      },
      "execution_count": null,
      "outputs": [
        {
          "output_type": "stream",
          "name": "stdout",
          "text": [
            "5\n",
            "8\n",
            "17\n"
          ]
        }
      ]
    },
    {
      "cell_type": "code",
      "source": [
        "#Q 5. What are the three types of access modifiers in Python? How are they denoted?"
      ],
      "metadata": {
        "id": "DgWPe9BnJgIe"
      },
      "execution_count": null,
      "outputs": []
    },
    {
      "cell_type": "code",
      "source": [
        "# Public:\n",
        "# Members (attributes or methods) declared as public are accessible from anywhere, both inside and outside the class.\n",
        "# No special prefix (just the name of the variable or method)."
      ],
      "metadata": {
        "id": "4_YYQighMXG1"
      },
      "execution_count": null,
      "outputs": []
    },
    {
      "cell_type": "code",
      "source": [
        "class Example:\n",
        "    def __init__(self):\n",
        "        self.public_attribute = \"I am public\"\n",
        "\n",
        "    def public_method(self):\n",
        "        return \"This is a public method\"\n",
        "\n",
        "obj = Example()\n",
        "print(obj.public_attribute)  # Accessible\n",
        "print(obj.public_method())   # Accessible\n"
      ],
      "metadata": {
        "colab": {
          "base_uri": "https://localhost:8080/"
        },
        "id": "8QOKe7djMoIy",
        "outputId": "5a5c6e2c-9191-40d3-b15c-fbe354554a64"
      },
      "execution_count": null,
      "outputs": [
        {
          "output_type": "stream",
          "name": "stdout",
          "text": [
            "I am public\n",
            "This is a public method\n"
          ]
        }
      ]
    },
    {
      "cell_type": "code",
      "source": [
        "# Protected:\n",
        "#  Members declared as protected are accessible within the class and its subclasses but are not meant to be accessed directly outside the class. This is a convention, not strict enforcement.\n",
        "#  A single underscore (_) prefix.\n"
      ],
      "metadata": {
        "id": "OA6EbYZGMu-2"
      },
      "execution_count": null,
      "outputs": []
    },
    {
      "cell_type": "code",
      "source": [
        "class Example:\n",
        "    def __init__(self):\n",
        "        self._protected_attribute = \"I am protected\"\n",
        "\n",
        "    def _protected_method(self):\n",
        "        return \"This is a protected method\"\n",
        "\n",
        "class Subclass(Example):\n",
        "    def access_protected(self):\n",
        "        return self._protected_attribute\n",
        "\n",
        "obj = Example()\n",
        "print(obj._protected_attribute)\n",
        "subclass_obj = Subclass()\n",
        "print(subclass_obj.access_protected())\n"
      ],
      "metadata": {
        "colab": {
          "base_uri": "https://localhost:8080/"
        },
        "id": "-8v3-M8NM6B-",
        "outputId": "eb27d609-9fab-475a-9f7e-ebe6f8363647"
      },
      "execution_count": null,
      "outputs": [
        {
          "output_type": "stream",
          "name": "stdout",
          "text": [
            "I am protected\n",
            "I am protected\n"
          ]
        }
      ]
    },
    {
      "cell_type": "code",
      "source": [
        "# Private:\n",
        "#  Members declared as private are only accessible within the class where they are defined. They cannot be accessed directly from outside the class. Python achieves this by name mangling.\n",
        "#  A double underscore (__) prefix.\n"
      ],
      "metadata": {
        "id": "zDrM3ErXM9cG"
      },
      "execution_count": null,
      "outputs": []
    },
    {
      "cell_type": "code",
      "source": [
        "class Example:\n",
        "    def __init__(self):\n",
        "        self.__private_attribute = \"I am private\"\n",
        "\n",
        "    def __private_method(self):\n",
        "        return \"This is a private method\"\n",
        "\n",
        "    def access_private(self):\n",
        "        return self.__private_method()\n",
        "\n",
        "obj = Example()\n",
        "print(obj.access_private())\n"
      ],
      "metadata": {
        "colab": {
          "base_uri": "https://localhost:8080/"
        },
        "id": "oB2JvEW-NLH5",
        "outputId": "79e52274-041d-4677-e8f7-d07bc969f1cc"
      },
      "execution_count": null,
      "outputs": [
        {
          "output_type": "stream",
          "name": "stdout",
          "text": [
            "This is a private method\n"
          ]
        }
      ]
    },
    {
      "cell_type": "code",
      "source": [
        "#Q 6. Describe the five types of inheritance in Python. Provide a simple example of multiple inheritance.\n",
        "\n",
        "\n"
      ],
      "metadata": {
        "id": "ocBmJ3oZNSs4"
      },
      "execution_count": null,
      "outputs": []
    },
    {
      "cell_type": "code",
      "source": [
        "# Single Inheritance:\n",
        "# A child class inherits from only one parent class.\n",
        "class Parent:\n",
        "    def display(self):\n",
        "        print(\"This is the Parent class.\")\n",
        "\n",
        "class Child(Parent):\n",
        "    def show(self):\n",
        "        print(\"This is the Child class.\")\n",
        "\n",
        "obj = Child()\n",
        "obj.display()\n",
        "obj.show()\n",
        "\n"
      ],
      "metadata": {
        "colab": {
          "base_uri": "https://localhost:8080/"
        },
        "id": "UzhLKLJrOPgM",
        "outputId": "d10702e6-faad-40ab-d06b-a4dbe9107aa9"
      },
      "execution_count": null,
      "outputs": [
        {
          "output_type": "stream",
          "name": "stdout",
          "text": [
            "This is the Parent class.\n",
            "This is the Child class.\n"
          ]
        }
      ]
    },
    {
      "cell_type": "code",
      "source": [
        "# Multiple Inheritance:\n",
        "# A child class inherits from more than one parent class."
      ],
      "metadata": {
        "id": "w6ClD2onOt_4"
      },
      "execution_count": null,
      "outputs": []
    },
    {
      "cell_type": "code",
      "source": [
        "class Parent1:\n",
        "    def method1(self):\n",
        "        print(\"Method from Parent1.\")\n",
        "\n",
        "class Parent2:\n",
        "    def method2(self):\n",
        "        print(\"Method from Parent2.\")\n",
        "\n",
        "class Child(Parent1, Parent2):\n",
        "    def method3(self):\n",
        "        print(\"Method from Child.\")\n",
        "\n",
        "obj = Child()\n",
        "obj.method1()\n",
        "obj.method2()\n",
        "obj.method3()\n"
      ],
      "metadata": {
        "colab": {
          "base_uri": "https://localhost:8080/"
        },
        "id": "Kx4PP8nuO4Dd",
        "outputId": "ac658f09-d499-4472-c43f-29e60c3c2885"
      },
      "execution_count": null,
      "outputs": [
        {
          "output_type": "stream",
          "name": "stdout",
          "text": [
            "Method from Parent1.\n",
            "Method from Parent2.\n",
            "Method from Child.\n"
          ]
        }
      ]
    },
    {
      "cell_type": "code",
      "source": [
        "# Multilevel Inheritance:\n",
        "# A child class inherits from a parent class, and another child class inherits from that child class"
      ],
      "metadata": {
        "id": "W-8CVAH7O9Ho"
      },
      "execution_count": null,
      "outputs": []
    },
    {
      "cell_type": "code",
      "source": [
        "class Grandparent:\n",
        "    def grandparent_method(self):\n",
        "        print(\"This is the Grandparent class.\")\n",
        "\n",
        "class Parent(Grandparent):\n",
        "    def parent_method(self):\n",
        "        print(\"This is the Parent class.\")\n",
        "\n",
        "class Child(Parent):\n",
        "    def child_method(self):\n",
        "        print(\"This is the Child class.\")\n",
        "\n",
        "obj = Child()\n",
        "obj.grandparent_method()\n",
        "obj.parent_method()\n",
        "obj.child_method()\n"
      ],
      "metadata": {
        "colab": {
          "base_uri": "https://localhost:8080/"
        },
        "id": "y9rTaCuqPDaR",
        "outputId": "a0b1ca9d-ca84-4595-85ce-dac3967dd437"
      },
      "execution_count": null,
      "outputs": [
        {
          "output_type": "stream",
          "name": "stdout",
          "text": [
            "This is the Grandparent class.\n",
            "This is the Parent class.\n",
            "This is the Child class.\n"
          ]
        }
      ]
    },
    {
      "cell_type": "code",
      "source": [
        "# Hierarchical Inheritance:\n",
        "# Multiple child classes inherit from a single parent class."
      ],
      "metadata": {
        "id": "5DrB7y5LPKTe"
      },
      "execution_count": null,
      "outputs": []
    },
    {
      "cell_type": "code",
      "source": [
        "class Parent:\n",
        "    def parent_method(self):\n",
        "        print(\"This is the Parent class.\")\n",
        "\n",
        "class Child1(Parent):\n",
        "    def child1_method(self):\n",
        "        print(\"This is Child1.\")\n",
        "\n",
        "class Child2(Parent):\n",
        "    def child2_method(self):\n",
        "        print(\"This is Child2.\")\n",
        "\n",
        "obj1 = Child1()\n",
        "obj2 = Child2()\n",
        "obj1.parent_method()\n",
        "obj1.child1_method()\n",
        "obj2.parent_method()\n",
        "obj2.child2_method()\n"
      ],
      "metadata": {
        "colab": {
          "base_uri": "https://localhost:8080/"
        },
        "id": "th3L0bnEPRqG",
        "outputId": "8367560d-2231-4c4e-d7cd-120227db6d61"
      },
      "execution_count": null,
      "outputs": [
        {
          "output_type": "stream",
          "name": "stdout",
          "text": [
            "This is the Parent class.\n",
            "This is Child1.\n",
            "This is the Parent class.\n",
            "This is Child2.\n"
          ]
        }
      ]
    },
    {
      "cell_type": "code",
      "source": [
        "# Hybrid Inheritance:\n",
        "# A combination of two or more types of inheritance (e.g., multiple and hierarchical)."
      ],
      "metadata": {
        "id": "x4WfAqdSPZ15"
      },
      "execution_count": null,
      "outputs": []
    },
    {
      "cell_type": "code",
      "source": [
        "class Parent:\n",
        "    def parent_method(self):\n",
        "        print(\"This is the Parent class.\")\n",
        "\n",
        "class Child1(Parent):\n",
        "    def child1_method(self):\n",
        "        print(\"This is Child1.\")\n",
        "\n",
        "class Child2(Parent):\n",
        "    def child2_method(self):\n",
        "        print(\"This is Child2.\")\n",
        "\n",
        "class Grandchild(Child1, Child2):\n",
        "    def grandchild_method(self):\n",
        "        print(\"This is the Grandchild.\")\n",
        "\n",
        "obj = Grandchild()\n",
        "obj.parent_method()\n",
        "obj.child1_method()\n",
        "obj.child2_method()\n",
        "obj.grandchild_method()\n"
      ],
      "metadata": {
        "colab": {
          "base_uri": "https://localhost:8080/"
        },
        "id": "SyZDEVAzPqdv",
        "outputId": "ed20b8b5-a431-4db1-bf73-864a46a24f31"
      },
      "execution_count": null,
      "outputs": [
        {
          "output_type": "stream",
          "name": "stdout",
          "text": [
            "This is the Parent class.\n",
            "This is Child1.\n",
            "This is Child2.\n",
            "This is the Grandchild.\n"
          ]
        }
      ]
    },
    {
      "cell_type": "code",
      "source": [
        "# Multiple Inheritance:"
      ],
      "metadata": {
        "id": "ugpSWFirP5wb"
      },
      "execution_count": null,
      "outputs": []
    },
    {
      "cell_type": "code",
      "source": [
        "class Engine:\n",
        "    def start(self):\n",
        "        print(\"Engine started.\")\n",
        "\n",
        "class Wheels:\n",
        "    def roll(self):\n",
        "        print(\"Wheels are rolling.\")\n",
        "\n",
        "class Car(Engine, Wheels):\n",
        "    def drive(self):\n",
        "        print(\"Car is driving.\")\n",
        "\n",
        "my_car = Car()\n",
        "my_car.start()\n",
        "my_car.roll()\n",
        "my_car.drive()\n"
      ],
      "metadata": {
        "colab": {
          "base_uri": "https://localhost:8080/"
        },
        "id": "CRmJKy8nQECh",
        "outputId": "5fe2cefd-d327-43f5-fc70-953efddf4b34"
      },
      "execution_count": null,
      "outputs": [
        {
          "output_type": "stream",
          "name": "stdout",
          "text": [
            "Engine started.\n",
            "Wheels are rolling.\n",
            "Car is driving.\n"
          ]
        }
      ]
    },
    {
      "cell_type": "code",
      "source": [
        "#Q 7.What is the Method Resolution Order (MRO) in Python? How can you retrieve it programmatically?\n",
        "#The Method Resolution Order (MRO) defines the sequence in which Python looks for methods or attributes in a hierarchy of classes. This is especially relevant in multiple inheritance scenarios, where the class hierarchy can involve multiple parent classes.\n",
        "class A:\n",
        "    def method(self):\n",
        "        print(\"Method in A\")\n",
        "\n",
        "class B(A):\n",
        "    def method(self):\n",
        "        print(\"Method in B\")\n",
        "\n",
        "class C(A):\n",
        "    def method(self):\n",
        "        print(\"Method in C\")\n",
        "\n",
        "class D(B, C):\n",
        "    pass\n",
        "\n",
        "d = D()\n",
        "d.method()  # Output: Method in B (due to MRO)\n",
        "\n",
        "# Retrieve the MRO\n",
        "print(D.mro())\n",
        "\n",
        "\n"
      ],
      "metadata": {
        "colab": {
          "base_uri": "https://localhost:8080/"
        },
        "id": "Gtb9J3yaQZIX",
        "outputId": "69315e97-bc22-4f34-9add-595e20c882e7"
      },
      "execution_count": null,
      "outputs": [
        {
          "output_type": "stream",
          "name": "stdout",
          "text": [
            "Method in B\n",
            "[<class '__main__.D'>, <class '__main__.B'>, <class '__main__.C'>, <class '__main__.A'>, <class 'object'>]\n"
          ]
        }
      ]
    },
    {
      "cell_type": "code",
      "source": [
        "#Using the mro() Method:"
      ],
      "metadata": {
        "id": "haVtE2f3Wx3D"
      },
      "execution_count": null,
      "outputs": []
    },
    {
      "cell_type": "code",
      "source": [
        "class A:\n",
        "    pass\n",
        "\n",
        "class B(A):\n",
        "    pass\n",
        "\n",
        "class C(B):\n",
        "    pass\n",
        "\n",
        "print(C.mro())\n",
        "\n"
      ],
      "metadata": {
        "colab": {
          "base_uri": "https://localhost:8080/"
        },
        "id": "kZmWxsLGW4vN",
        "outputId": "d30a8928-e4e5-459a-8926-d01f98d18d85"
      },
      "execution_count": null,
      "outputs": [
        {
          "output_type": "stream",
          "name": "stdout",
          "text": [
            "[<class '__main__.C'>, <class '__main__.B'>, <class '__main__.A'>, <class 'object'>]\n"
          ]
        }
      ]
    },
    {
      "cell_type": "code",
      "source": [
        "#Multiple Inheritance\n",
        "class A:\n",
        "    def method(self):\n",
        "        print(\"Method in A\")\n",
        "\n",
        "class B(A):\n",
        "    def method(self):\n",
        "        print(\"Method in B\")\n",
        "\n",
        "class C(A):\n",
        "    def method(self):\n",
        "        print(\"Method in C\")\n",
        "\n",
        "class D(B, C):\n",
        "    pass\n",
        "\n",
        "d = D()\n",
        "d.method()\n",
        "print(D.mro())\n"
      ],
      "metadata": {
        "colab": {
          "base_uri": "https://localhost:8080/"
        },
        "id": "A1mdWou6W6te",
        "outputId": "74113873-f77d-439d-97da-bf362bf8081d"
      },
      "execution_count": null,
      "outputs": [
        {
          "output_type": "stream",
          "name": "stdout",
          "text": [
            "Method in B\n",
            "[<class '__main__.D'>, <class '__main__.B'>, <class '__main__.C'>, <class '__main__.A'>, <class 'object'>]\n"
          ]
        }
      ]
    },
    {
      "cell_type": "code",
      "source": [
        "#Q  8. Create an abstract base class `Shape` with an abstract method `area()`. Then create two subclasses`Circle` and `Rectangle` that implement the `area()` method.\n",
        "\n",
        "\n"
      ],
      "metadata": {
        "id": "E030ImqrXY-D"
      },
      "execution_count": null,
      "outputs": []
    },
    {
      "cell_type": "code",
      "source": [
        "from abc import ABC, abstractmethod\n",
        "import math\n",
        "\n",
        "# Abstract base class\n",
        "class Shape(ABC):\n",
        "    @abstractmethod\n",
        "    def area(self):\n",
        "        pass\n",
        "\n",
        "# Subclass for Circle\n",
        "class Circle(Shape):\n",
        "    def __init__(self, radius):\n",
        "        self.radius = radius\n",
        "\n",
        "    def area(self):\n",
        "        return math.pi * self.radius ** 2\n",
        "\n",
        "# Subclass for Rectangle\n",
        "class Rectangle(Shape):\n",
        "    def __init__(self, width, height):\n",
        "        self.width = width\n",
        "        self.height = height\n",
        "\n",
        "    def area(self):\n",
        "        return self.width * self.height\n",
        "\n",
        "\n",
        "circle = Circle(5)\n",
        "rectangle = Rectangle(4, 6)\n",
        "print(f\"Circle area: {circle.area()}\")\n",
        "print(f\"Rectangle area: {rectangle.area()}\")\n"
      ],
      "metadata": {
        "colab": {
          "base_uri": "https://localhost:8080/"
        },
        "id": "e13_CcsOX3jO",
        "outputId": "df33ce48-f0b7-4415-aac8-6d1ed4316454"
      },
      "execution_count": null,
      "outputs": [
        {
          "output_type": "stream",
          "name": "stdout",
          "text": [
            "Circle area: 78.53981633974483\n",
            "Rectangle area: 24\n"
          ]
        }
      ]
    },
    {
      "cell_type": "code",
      "source": [
        "#9. Demonstrate polymorphism by creating a function that can work with different shape objects to calculat and print the area\n",
        "from abc import ABC, abstractmethod\n",
        "import math\n",
        "\n",
        "# Abstract base class\n",
        "class Shape(ABC):\n",
        "    @abstractmethod\n",
        "    def area(self):\n",
        "        pass\n",
        "\n",
        "# Subclass for Circle\n",
        "class Circle(Shape):\n",
        "    def __init__(self, radius):\n",
        "        self.radius = radius\n",
        "\n",
        "    def area(self):\n",
        "        return math.pi * self.radius ** 2\n",
        "\n",
        "# Subclass for Rectangle\n",
        "class Rectangle(Shape):\n",
        "    def __init__(self, width, height):\n",
        "        self.width = width\n",
        "        self.height = height\n",
        "\n",
        "    def area(self):\n",
        "        return self.width * self.height\n",
        "\n",
        "\n",
        "circle = Circle(5)\n",
        "rectangle = Rectangle(4, 6)\n",
        "\n",
        "print(f\"Circle area: {circle.area()}\")\n",
        "print(f\"Rectangle area: {rectangle.area()}\")"
      ],
      "metadata": {
        "colab": {
          "base_uri": "https://localhost:8080/"
        },
        "id": "bFHERfsLYHan",
        "outputId": "7ea45832-bb88-4ecb-bea6-d8254009bb57"
      },
      "execution_count": null,
      "outputs": [
        {
          "output_type": "stream",
          "name": "stdout",
          "text": [
            "Circle area: 78.53981633974483\n",
            "Rectangle area: 24\n"
          ]
        }
      ]
    },
    {
      "cell_type": "code",
      "source": [
        "# 10. Implement encapsulation in a `BankAccount` class with private attributes for `balance` and `account_number`. Include methods for deposit, withdrawal, and balance inquiry.\n",
        "\n"
      ],
      "metadata": {
        "id": "f1BmvwmsYv2K"
      },
      "execution_count": null,
      "outputs": []
    },
    {
      "cell_type": "code",
      "source": [
        "class BankAccount:\n",
        "    def __init__(self, account_number, initial_balance=0):\n",
        "        # Private attributes\n",
        "        self.__account_number = account_number\n",
        "        self.__balance = initial_balance\n",
        "\n",
        "    # Deposit method\n",
        "    def deposit(self, amount):\n",
        "        if amount > 0:\n",
        "            self.__balance += amount\n",
        "            print(f\"Deposited {amount}. New balance: {self.__balance}\")\n",
        "        else:\n",
        "            print(\"Deposit amount must be positive.\")\n",
        "\n",
        "    # Withdrawal method\n",
        "    def withdraw(self, amount):\n",
        "        if amount > 0 and amount <= self.__balance:\n",
        "            self.__balance -= amount\n",
        "            print(f\"Withdrew {amount}. New balance: {self.__balance}\")\n",
        "        elif amount > self.__balance:\n",
        "            print(\"Insufficient funds.\")\n",
        "        else:\n",
        "            print(\"Withdrawal amount must be positive.\")\n",
        "\n",
        "    # Balance inquiry method\n",
        "    def get_balance(self):\n",
        "        return f\"Balance: {self.__balance}\"\n",
        "\n",
        "    # Account number is private but can be accessed with a getter method\n",
        "    def get_account_number(self):\n",
        "        return self.__account_number\n",
        "\n",
        "\n",
        "# Example usage\n",
        "account = BankAccount(12345678, 1000)\n",
        "\n",
        "# Deposit money\n",
        "account.deposit(500)  # Deposited 500. New balance: 1500\n",
        "\n",
        "# Withdraw money\n",
        "account.withdraw(200)  # Withdrew 200. New balance: 1300\n",
        "\n",
        "# Check balance\n",
        "print(account.get_balance())  # Output: Balance: 1300\n",
        "\n",
        "# Account number can be accessed via the getter method\n",
        "print(f\"Account number: {account.get_account_number()}\")  # Output: Account number: 12345678\n"
      ],
      "metadata": {
        "colab": {
          "base_uri": "https://localhost:8080/"
        },
        "id": "oZSXQezCZkLi",
        "outputId": "79df3779-55b2-443b-f4f4-836e6795e4bb"
      },
      "execution_count": null,
      "outputs": [
        {
          "output_type": "stream",
          "name": "stdout",
          "text": [
            "Deposited 500. New balance: 1500\n",
            "Withdrew 200. New balance: 1300\n",
            "Balance: 1300\n",
            "Account number: 12345678\n"
          ]
        }
      ]
    },
    {
      "cell_type": "code",
      "source": [
        "#11. Write a class that overrides the `__str__` and `__add__` magic methods. What will these methods allow you to do?\n",
        "\n",
        "\n",
        "class Box:\n",
        "    def __init__(self, length, width):\n",
        "        self.length = length\n",
        "        self.width = width\n",
        "    def __str__(self):\n",
        "        return f\"Box with length {self.length} and width {self.width}\"\n",
        "\n",
        "\n",
        "    def __add__(self, other):\n",
        "        if isinstance(other, Box):\n",
        "            # Adding the areas of the two boxes (as an example of combining objects)\n",
        "            new_length = self.length + other.length\n",
        "            new_width = self.width + other.width\n",
        "            return Box(new_length, new_width)\n",
        "        else:\n",
        "            return NotImplemented\n",
        "\n",
        "box1 = Box(4, 5)\n",
        "box2 = Box(2, 3)\n",
        "print(box1)\n",
        "print(box2)\n",
        "\n",
        "box3 = box1 + box2\n",
        "print(box3)\n"
      ],
      "metadata": {
        "colab": {
          "base_uri": "https://localhost:8080/"
        },
        "id": "6tKTNK22ZoR0",
        "outputId": "e3dba51a-0ed4-4aed-faf5-f12f00173219"
      },
      "execution_count": null,
      "outputs": [
        {
          "output_type": "stream",
          "name": "stdout",
          "text": [
            "Box with length 4 and width 5\n",
            "Box with length 2 and width 3\n",
            "Box with length 6 and width 8\n"
          ]
        }
      ]
    },
    {
      "cell_type": "code",
      "source": [
        "#Q 12. Create a decorator that measures and prints the execution time of a function.\n",
        "\n",
        "import time\n",
        "\n",
        "def measure_time(func):\n",
        "    def wrapper(*args, **kwargs):\n",
        "        start_time = time.time()\n",
        "        result = func(*args, **kwargs)\n",
        "        end_time = time.time()\n",
        "        execution_time = end_time - start_time\n",
        "        print(f\"Execution time of {func.__name__}: {execution_time:.4f} seconds\")\n",
        "        return result\n",
        "    return wrapper\n",
        "@measure_time\n",
        "def example_function():\n",
        "    time.sleep(2)\n",
        "example_function()\n",
        "\n"
      ],
      "metadata": {
        "colab": {
          "base_uri": "https://localhost:8080/"
        },
        "id": "OP0Fo8hvZxQh",
        "outputId": "d2839689-c628-4f68-d746-a518f9604edc"
      },
      "execution_count": null,
      "outputs": [
        {
          "output_type": "stream",
          "name": "stdout",
          "text": [
            "Execution time of example_function: 2.0021 seconds\n"
          ]
        }
      ]
    },
    {
      "cell_type": "code",
      "source": [
        "#Q 13.Explain the concept of the Diamond Problem in multiple inheritance. How does Python resolve it?\n",
        "\n"
      ],
      "metadata": {
        "id": "-vL_snzMbniL"
      },
      "execution_count": null,
      "outputs": []
    },
    {
      "cell_type": "code",
      "source": [
        "class A:\n",
        "    def method(self):\n",
        "        print(\"Method in A\")\n",
        "\n",
        "class B(A):\n",
        "    def method(self):\n",
        "        print(\"Method in B\")\n",
        "\n",
        "class C(A):\n",
        "    def method(self):\n",
        "        print(\"Method in C\")\n",
        "\n",
        "class D(B, C):\n",
        "    pass\n",
        "\n",
        "\n",
        "d = D()\n",
        "d.method()\n"
      ],
      "metadata": {
        "colab": {
          "base_uri": "https://localhost:8080/"
        },
        "id": "ST_0cNSBb935",
        "outputId": "be1109c3-f8c2-49f3-f5f1-16ba3126bdef"
      },
      "execution_count": null,
      "outputs": [
        {
          "output_type": "stream",
          "name": "stdout",
          "text": [
            "Method in B\n"
          ]
        }
      ]
    },
    {
      "cell_type": "code",
      "source": [
        "# Q 14. Write a class method that keeps track of the number of instances created from a class.\n",
        "\n",
        "\n",
        "class MyClass:\n",
        "    # Class-level attribute to keep track of instances\n",
        "    instance_count = 0\n",
        "\n",
        "    def __init__(self):\n",
        "        # Increment the instance count each time an instance is created\n",
        "        MyClass.instance_count += 1\n",
        "\n",
        "    # Class method to get the current number of instances\n",
        "    @classmethod\n",
        "    def get_instance_count(cls):\n",
        "        return cls.instance_count\n",
        "\n",
        "# Example usage\n",
        "obj1 = MyClass()\n",
        "obj2 = MyClass()\n",
        "obj3 = MyClass()\n",
        "\n",
        "# Get the number of instances created\n",
        "print(f\"Number of instances created: {MyClass.get_instance_count()}\")\n"
      ],
      "metadata": {
        "colab": {
          "base_uri": "https://localhost:8080/"
        },
        "id": "HDIJ1q7KcBPo",
        "outputId": "21502199-f943-421f-85b8-48b347f8d22c"
      },
      "execution_count": null,
      "outputs": [
        {
          "output_type": "stream",
          "name": "stdout",
          "text": [
            "Number of instances created: 3\n"
          ]
        }
      ]
    },
    {
      "cell_type": "code",
      "source": [
        "#Q 15. Implement a static method in a class that checks if a given year is a leap year.\n"
      ],
      "metadata": {
        "id": "tX5C6_CpcVbN"
      },
      "execution_count": null,
      "outputs": []
    },
    {
      "cell_type": "code",
      "source": [
        "class YearUtils:\n",
        "    @staticmethod\n",
        "    def is_leap_year(year):\n",
        "        if (year % 4 == 0 and year % 100 != 0) or (year % 400 == 0):\n",
        "            return True\n",
        "        else:\n",
        "            return False\n",
        "year = 2024\n",
        "if YearUtils.is_leap_year(year):\n",
        "    print(f\"{year} is a leap year.\")\n",
        "else:\n",
        "    print(f\"{year} is not a leap year.\")\n"
      ],
      "metadata": {
        "colab": {
          "base_uri": "https://localhost:8080/"
        },
        "id": "aUpQ0sEmdXQ4",
        "outputId": "4f66083b-8e77-45cc-b359-ccf4a12cb095"
      },
      "execution_count": null,
      "outputs": [
        {
          "output_type": "stream",
          "name": "stdout",
          "text": [
            "2024 is a leap year.\n"
          ]
        }
      ]
    },
    {
      "cell_type": "code",
      "source": [],
      "metadata": {
        "id": "nxFtl6iQeFWh"
      },
      "execution_count": null,
      "outputs": []
    }
  ]
}